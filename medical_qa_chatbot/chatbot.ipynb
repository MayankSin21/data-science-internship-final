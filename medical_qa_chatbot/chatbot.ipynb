{
 "cells": [
  {
   "cell_type": "code",
   "execution_count": 19,
   "id": "e85d4c7e-561a-4c40-83b0-f463cf206e8e",
   "metadata": {},
   "outputs": [],
   "source": [
    "import os\n",
    "import xml.etree.ElementTree as ET\n",
    "import pandas as pd"
   ]
  },
  {
   "cell_type": "code",
   "execution_count": 21,
   "id": "2065f79a-b8fd-4711-9736-1a3c51e54ad0",
   "metadata": {},
   "outputs": [],
   "source": [
    "def load_medquad(path=\"MedQuAD/\"):\n",
    "    all_data = []\n",
    "    \n",
    "    for folder in os.listdir(path):\n",
    "        folder_path = os.path.join(path, folder)\n",
    "        if not os.path.isdir(folder_path):\n",
    "            continue\n",
    "        \n",
    "        for filename in os.listdir(folder_path):\n",
    "            file_path = os.path.join(folder_path, filename)\n",
    "            if not filename.endswith(\".xml\"):\n",
    "                continue\n",
    "            \n",
    "            try:\n",
    "                tree = ET.parse(file_path)\n",
    "                root = tree.getroot()\n",
    "                \n",
    "                question = root.findtext(\".//question\")\n",
    "                answer = root.findtext(\".//answer\")\n",
    "                \n",
    "                if question and answer:\n",
    "                    all_data.append({\"question\": question.strip(), \"answer\": answer.strip()})\n",
    "            except Exception as e:\n",
    "                print(f\"Skipping {file_path}: {e}\")\n",
    "    \n",
    "    return pd.DataFrame(all_data)\n"
   ]
  },
  {
   "cell_type": "code",
   "execution_count": 23,
   "id": "c23ec8c8-994a-4092-9c4a-b9b5dab39958",
   "metadata": {},
   "outputs": [],
   "source": [
    "df = load_medquad(\"MedQuAD/\")\n",
    "df = df.dropna().drop_duplicates()\n",
    "df.to_csv(\"medquad_qa.csv\", index=False)"
   ]
  },
  {
   "cell_type": "code",
   "execution_count": 24,
   "id": "5f91a62d-e1db-4374-8961-aa16e6a94987",
   "metadata": {},
   "outputs": [
    {
     "data": {
      "text/html": [
       "<div>\n",
       "<style scoped>\n",
       "    .dataframe tbody tr th:only-of-type {\n",
       "        vertical-align: middle;\n",
       "    }\n",
       "\n",
       "    .dataframe tbody tr th {\n",
       "        vertical-align: top;\n",
       "    }\n",
       "\n",
       "    .dataframe thead th {\n",
       "        text-align: right;\n",
       "    }\n",
       "</style>\n",
       "<table border=\"1\" class=\"dataframe\">\n",
       "  <thead>\n",
       "    <tr style=\"text-align: right;\">\n",
       "      <th></th>\n",
       "      <th>question</th>\n",
       "      <th>answer</th>\n",
       "    </tr>\n",
       "  </thead>\n",
       "  <tbody>\n",
       "    <tr>\n",
       "      <th>0</th>\n",
       "      <td>what is holmes-adie syndrome ?</td>\n",
       "      <td>Holmes-Adie syndrome (HAS) is a neurological d...</td>\n",
       "    </tr>\n",
       "    <tr>\n",
       "      <th>1</th>\n",
       "      <td>what is psychogenic movement?</td>\n",
       "      <td>Psychogenic movement is an unwanted muscle mov...</td>\n",
       "    </tr>\n",
       "    <tr>\n",
       "      <th>2</th>\n",
       "      <td>what are lipid storage diseases?</td>\n",
       "      <td>Lipid storage diseases are a group of inherite...</td>\n",
       "    </tr>\n",
       "    <tr>\n",
       "      <th>3</th>\n",
       "      <td>what is amyotrophic lateral sclerosis (als)?</td>\n",
       "      <td>Amyotrophic lateral sclerosis (ALS), sometimes...</td>\n",
       "    </tr>\n",
       "  </tbody>\n",
       "</table>\n",
       "</div>"
      ],
      "text/plain": [
       "                                       question  \\\n",
       "0                what is holmes-adie syndrome ?   \n",
       "1                 what is psychogenic movement?   \n",
       "2              what are lipid storage diseases?   \n",
       "3  what is amyotrophic lateral sclerosis (als)?   \n",
       "\n",
       "                                              answer  \n",
       "0  Holmes-Adie syndrome (HAS) is a neurological d...  \n",
       "1  Psychogenic movement is an unwanted muscle mov...  \n",
       "2  Lipid storage diseases are a group of inherite...  \n",
       "3  Amyotrophic lateral sclerosis (ALS), sometimes...  "
      ]
     },
     "execution_count": 24,
     "metadata": {},
     "output_type": "execute_result"
    }
   ],
   "source": [
    "df = pd.read_csv(\"medquad_qa.csv\")\n",
    "df.dropna(inplace=True)\n",
    "df.drop_duplicates(inplace=True)\n",
    "df.reset_index(drop=True, inplace=True)\n",
    "df.head()"
   ]
  },
  {
   "cell_type": "code",
   "execution_count": 25,
   "id": "4db5eb49-415c-4b55-b694-4b62600f848d",
   "metadata": {},
   "outputs": [],
   "source": [
    "from sklearn.feature_extraction.text import TfidfVectorizer\n",
    "from sklearn.metrics.pairwise import cosine_similarity\n",
    "\n",
    "vectorizer = TfidfVectorizer()\n",
    "X = vectorizer.fit_transform(df[\"question\"])"
   ]
  },
  {
   "cell_type": "code",
   "execution_count": 26,
   "id": "2d3270cf-e4b9-4b6a-949e-87842161b49a",
   "metadata": {},
   "outputs": [],
   "source": [
    "import joblib\n",
    "import os\n",
    "\n",
    "vectorizer = joblib.load(\"saved_model/vectorizer.pkl\")\n",
    "X = joblib.load(\"saved_model/X.pkl\")"
   ]
  },
  {
   "cell_type": "code",
   "execution_count": 27,
   "id": "559c4059-fb14-46b1-a95b-0ee3f5d9cd86",
   "metadata": {},
   "outputs": [],
   "source": [
    "def get_answer(user_question):\n",
    "    user_vec = vectorizer.transform([user_question])\n",
    "    \n",
    "    similarity = cosine_similarity(user_vec, X).flatten()\n",
    "    \n",
    "    best_match_idx = similarity.argmax()\n",
    "    \n",
    "    best_question = df.iloc[best_match_idx][\"question\"]\n",
    "    best_answer = df.iloc[best_match_idx][\"answer\"]\n",
    "    \n",
    "    return best_question, best_answer"
   ]
  },
  {
   "cell_type": "code",
   "execution_count": null,
   "id": "ff4d4e51-ff32-40e1-a093-3ce61532c7ee",
   "metadata": {},
   "outputs": [
    {
     "name": "stdin",
     "output_type": "stream",
     "text": [
      "You:  what is holmes-adie syndrome ?\n"
     ]
    },
    {
     "name": "stdout",
     "output_type": "stream",
     "text": [
      "\n",
      "Bot (Best Match: what is holmes-adie syndrome ?)\n",
      "→ Holmes-Adie syndrome (HAS) is a neurological disorder affecting the pupil of the eye and the autonomic nervous system.  It is characterized by one eye with a pupil that is larger than normal and constricts slowly in bright light  (tonic pupil), along with the absence of deep tendon reflexes, usually in the Achilles tendon.   HAS is thought to be the result of a neurotrophic (acting on neurons, or nerve cells) viral infection that causes inflammation and damage to neurons in the ciliary ganglion, an area of the brain that controls eye movements, and the dorsal root ganglion, an area of the spinal cord involved in the response of the autonomic nervous system.  HAS begins gradually in one eye, and often progresses to involve the other eye.  At first, it may only cause the loss of deep tendon reflexes on one side of the body, but then progress to the other side.  The eye and reflex symptoms may not appear at the same time.  People with HAS may also sweat excessively, sometimes only on one side of the body.  The combination of these 3 symptoms – abnormal pupil size, loss of deep tendon reflexes, and excessive sweating – is usually called Ross’s syndrome, although some doctors will still diagnose the condition as a variant of HAS.  Some individuals will also have cardiovascular abnormalities.  The HAS symptoms can appear on their own, or in association with other diseases of the nervous system, such as Sjogren’s syndrome or migraine.  It is most often seen in young women.  It is rarely an inherited condition.\n",
      "\n"
     ]
    }
   ],
   "source": [
    "while True:\n",
    "    user_q = input(\"You: \")\n",
    "    if user_q.lower() in [\"exit\", \"quit\", \"bye\"]:\n",
    "        print(\"Bot: Thank you! Stay healthy. 👋\")\n",
    "        break\n",
    "    \n",
    "    matched_q, response = get_answer(user_q)\n",
    "    print(f\"\\nBot (Best Match: {matched_q})\\n→ {response}\\n\")"
   ]
  },
  {
   "cell_type": "code",
   "execution_count": null,
   "id": "6fc8ad44-eb6f-401c-ad65-51f448d87371",
   "metadata": {},
   "outputs": [],
   "source": []
  }
 ],
 "metadata": {
  "kernelspec": {
   "display_name": "Python 3 (ipykernel)",
   "language": "python",
   "name": "python3"
  },
  "language_info": {
   "codemirror_mode": {
    "name": "ipython",
    "version": 3
   },
   "file_extension": ".py",
   "mimetype": "text/x-python",
   "name": "python",
   "nbconvert_exporter": "python",
   "pygments_lexer": "ipython3",
   "version": "3.12.4"
  }
 },
 "nbformat": 4,
 "nbformat_minor": 5
}
