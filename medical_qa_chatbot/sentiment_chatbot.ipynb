{
 "cells": [
  {
   "cell_type": "code",
   "execution_count": 7,
   "id": "26411eec-bb24-41ef-a93b-490a16fdc6b5",
   "metadata": {},
   "outputs": [
    {
     "name": "stdout",
     "output_type": "stream",
     "text": [
      "Collecting textblob\n",
      "  Using cached textblob-0.19.0-py3-none-any.whl.metadata (4.4 kB)\n",
      "Requirement already satisfied: nltk>=3.9 in /Users/mayanksingh/anaconda3/lib/python3.12/site-packages (from textblob) (3.9.1)\n",
      "Requirement already satisfied: click in /Users/mayanksingh/anaconda3/lib/python3.12/site-packages (from nltk>=3.9->textblob) (8.1.7)\n",
      "Requirement already satisfied: joblib in /Users/mayanksingh/anaconda3/lib/python3.12/site-packages (from nltk>=3.9->textblob) (1.4.2)\n",
      "Requirement already satisfied: regex>=2021.8.3 in /Users/mayanksingh/anaconda3/lib/python3.12/site-packages (from nltk>=3.9->textblob) (2024.9.11)\n",
      "Requirement already satisfied: tqdm in /Users/mayanksingh/anaconda3/lib/python3.12/site-packages (from nltk>=3.9->textblob) (4.66.5)\n",
      "Using cached textblob-0.19.0-py3-none-any.whl (624 kB)\n",
      "Installing collected packages: textblob\n",
      "Successfully installed textblob-0.19.0\n",
      "[nltk_data] Downloading package brown to\n",
      "[nltk_data]     /Users/mayanksingh/nltk_data...\n",
      "[nltk_data]   Unzipping corpora/brown.zip.\n",
      "[nltk_data] Downloading package punkt_tab to\n",
      "[nltk_data]     /Users/mayanksingh/nltk_data...\n",
      "[nltk_data]   Unzipping tokenizers/punkt_tab.zip.\n",
      "[nltk_data] Downloading package wordnet to\n",
      "[nltk_data]     /Users/mayanksingh/nltk_data...\n",
      "[nltk_data]   Package wordnet is already up-to-date!\n",
      "[nltk_data] Downloading package averaged_perceptron_tagger_eng to\n",
      "[nltk_data]     /Users/mayanksingh/nltk_data...\n",
      "[nltk_data]   Unzipping taggers/averaged_perceptron_tagger_eng.zip.\n",
      "[nltk_data] Downloading package conll2000 to\n",
      "[nltk_data]     /Users/mayanksingh/nltk_data...\n",
      "[nltk_data]   Unzipping corpora/conll2000.zip.\n",
      "[nltk_data] Downloading package movie_reviews to\n",
      "[nltk_data]     /Users/mayanksingh/nltk_data...\n",
      "[nltk_data]   Unzipping corpora/movie_reviews.zip.\n",
      "Finished.\n"
     ]
    }
   ],
   "source": [
    "!pip install textblob\n",
    "!python -m textblob.download_corpora"
   ]
  },
  {
   "cell_type": "code",
   "execution_count": 3,
   "id": "1993c52d-b4ba-4ba3-8dd8-fcf108d05e3a",
   "metadata": {},
   "outputs": [],
   "source": [
    "from textblob import TextBlob\n",
    "from langdetect import detect\n",
    "from googletrans import Translator\n",
    "import pandas as pd\n",
    "from sklearn.metrics.pairwise import cosine_similarity\n",
    "import joblib"
   ]
  },
  {
   "cell_type": "code",
   "execution_count": 4,
   "id": "826c7ba3-275f-4689-962b-bd2064e5e414",
   "metadata": {},
   "outputs": [
    {
     "name": "stderr",
     "output_type": "stream",
     "text": [
      "/opt/anaconda3/lib/python3.12/site-packages/sklearn/base.py:442: InconsistentVersionWarning: Trying to unpickle estimator TfidfTransformer from version 1.5.1 when using version 1.7.1. This might lead to breaking code or invalid results. Use at your own risk. For more info please refer to:\n",
      "https://scikit-learn.org/stable/model_persistence.html#security-maintainability-limitations\n",
      "  warnings.warn(\n",
      "/opt/anaconda3/lib/python3.12/site-packages/sklearn/base.py:442: InconsistentVersionWarning: Trying to unpickle estimator TfidfVectorizer from version 1.5.1 when using version 1.7.1. This might lead to breaking code or invalid results. Use at your own risk. For more info please refer to:\n",
      "https://scikit-learn.org/stable/model_persistence.html#security-maintainability-limitations\n",
      "  warnings.warn(\n"
     ]
    }
   ],
   "source": [
    "df = pd.read_csv(\"medquad_qa.csv\")\n",
    "vectorizer = joblib.load(\"saved_model/vectorizer.pkl\")\n",
    "X = joblib.load(\"saved_model/X.pkl\")\n",
    "translator = Translator()"
   ]
  },
  {
   "cell_type": "code",
   "execution_count": 7,
   "id": "6329056c-513c-4e38-8471-538cd35e8984",
   "metadata": {},
   "outputs": [],
   "source": [
    "def detect_sentiment(text):\n",
    "    blob = TextBlob(text)\n",
    "    polarity = blob.sentiment.polarity\n",
    "\n",
    "    if polarity > 0.2:\n",
    "        return \"positive\"\n",
    "    elif polarity < -0.2:\n",
    "        return \"negative\"\n",
    "    else:\n",
    "        return \"neutral\""
   ]
  },
  {
   "cell_type": "code",
   "execution_count": 9,
   "id": "a235d49f-2185-4195-bb1a-d4e84365ccf6",
   "metadata": {},
   "outputs": [],
   "source": [
    "def sentiment_chatbot(user_input):\n",
    "    try:\n",
    "        lang = detect(user_input)\n",
    "        translated_input = user_input\n",
    "\n",
    "        # Translate if not English\n",
    "        if lang != 'en':\n",
    "            translated_input = translator.translate(user_input, src=lang, dest='en').text\n",
    "\n",
    "        # Detect sentiment\n",
    "        sentiment = detect_sentiment(translated_input)\n",
    "\n",
    "        # TF-IDF response\n",
    "        user_vec = vectorizer.transform([translated_input])\n",
    "        similarity = cosine_similarity(user_vec, X).flatten()\n",
    "        best_idx = similarity.argmax()\n",
    "\n",
    "        if similarity[best_idx] < 0.2:\n",
    "            return \"I'm sorry, I couldn't find a good answer for that.\", lang\n",
    "\n",
    "        best_answer = df.iloc[best_idx][\"answer\"]\n",
    "\n",
    "        # Translate back\n",
    "        if lang != 'en':\n",
    "            translated_answer = translator.translate(best_answer, src='en', dest=lang).text\n",
    "        else:\n",
    "            translated_answer = best_answer\n",
    "\n",
    "        # Add sentiment-specific prefix\n",
    "        if sentiment == \"negative\":\n",
    "            prefix = \"I'm sorry to hear that. \"\n",
    "        elif sentiment == \"positive\":\n",
    "            prefix = \"Glad to help! 😊 \"\n",
    "        else:\n",
    "            prefix = \"\"\n",
    "\n",
    "        return prefix + translated_answer, lang\n",
    "\n",
    "    except Exception as e:\n",
    "        return f\"❌ Error: {e}\", \"unknown\""
   ]
  },
  {
   "cell_type": "code",
   "execution_count": null,
   "id": "2f29cfdf-04eb-44e0-b22c-ed75d640127c",
   "metadata": {},
   "outputs": [
    {
     "name": "stdin",
     "output_type": "stream",
     "text": [
      "You:  I’m feeling anxious about my chest pain.\n"
     ]
    },
    {
     "name": "stdout",
     "output_type": "stream",
     "text": [
      "Bot (EN): I'm sorry to hear that. Chest pain can be caused by many conditions. If you're feeling anxious too, it's best to consult a doctor immediately.\n",
      "\n"
     ]
    },
    {
     "name": "stdin",
     "output_type": "stream",
     "text": [
      "You:  What should I do for chest pain?\n"
     ]
    },
    {
     "name": "stdout",
     "output_type": "stream",
     "text": [
      "Bot (EN): Chest pain may be serious. Seek medical help if it persists or worsens.\n",
      "\n"
     ]
    }
   ],
   "source": [
    "while True:\n",
    "    user = input(\"You: \")\n",
    "    if user.lower() in ['exit', 'quit']:\n",
    "        print(\"Bot: Thank you! 🙏\")\n",
    "        break\n",
    "\n",
    "    reply, user_lang = sentiment_chatbot(user)\n",
    "    print(f\"Bot ({user_lang.upper()}): {reply}\\n\")"
   ]
  },
  {
   "cell_type": "code",
   "execution_count": null,
   "id": "d90415fc-5211-4360-882c-75231d588b9d",
   "metadata": {},
   "outputs": [],
   "source": []
  }
 ],
 "metadata": {
  "kernelspec": {
   "display_name": "Python 3 (ipykernel)",
   "language": "python",
   "name": "python3"
  },
  "language_info": {
   "codemirror_mode": {
    "name": "ipython",
    "version": 3
   },
   "file_extension": ".py",
   "mimetype": "text/x-python",
   "name": "python",
   "nbconvert_exporter": "python",
   "pygments_lexer": "ipython3",
   "version": "3.12.4"
  }
 },
 "nbformat": 4,
 "nbformat_minor": 5
}
