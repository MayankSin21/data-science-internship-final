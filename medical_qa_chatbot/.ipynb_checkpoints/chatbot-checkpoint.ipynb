{
 "cells": [
  {
   "cell_type": "code",
   "execution_count": 23,
   "id": "e85d4c7e-561a-4c40-83b0-f463cf206e8e",
   "metadata": {},
   "outputs": [],
   "source": [
    "import os\n",
    "import xml.etree.ElementTree as ET\n",
    "import pandas as pd"
   ]
  },
  {
   "cell_type": "code",
   "execution_count": 27,
   "id": "2065f79a-b8fd-4711-9736-1a3c51e54ad0",
   "metadata": {},
   "outputs": [],
   "source": [
    "def load_medquad(path=\"MedQuAD/\"):\n",
    "    all_data = []\n",
    "    \n",
    "    for folder in os.listdir(path):\n",
    "        folder_path = os.path.join(path, folder)\n",
    "        if not os.path.isdir(folder_path):\n",
    "            continue\n",
    "        \n",
    "        for filename in os.listdir(folder_path):\n",
    "            file_path = os.path.join(folder_path, filename)\n",
    "            if not filename.endswith(\".xml\"):\n",
    "                continue\n",
    "            \n",
    "            try:\n",
    "                tree = ET.parse(file_path)\n",
    "                root = tree.getroot()\n",
    "                \n",
    "                question = root.findtext(\".//question\")\n",
    "                answer = root.findtext(\".//answer\")\n",
    "                \n",
    "                if question and answer:\n",
    "                    all_data.append({\"question\": question.strip(), \"answer\": answer.strip()})\n",
    "            except Exception as e:\n",
    "                print(f\"Skipping {file_path}: {e}\")\n",
    "    \n",
    "    return pd.DataFrame(all_data)\n"
   ]
  },
  {
   "cell_type": "code",
   "execution_count": null,
   "id": "c23ec8c8-994a-4092-9c4a-b9b5dab39958",
   "metadata": {},
   "outputs": [],
   "source": [
    "df = load_medquad(\"MedQuAD/\")\n",
    "df = df.dropna().drop_duplicates()\n",
    "df.to_csv(\"medquad_qa.csv\", index=False)"
   ]
  },
  {
   "cell_type": "code",
   "execution_count": null,
   "id": "5f91a62d-e1db-4374-8961-aa16e6a94987",
   "metadata": {},
   "outputs": [],
   "source": [
    "df = pd.read_csv(\"medquad_qa.csv\")\n",
    "df.dropna(inplace=True)\n",
    "df.drop_duplicates(inplace=True)\n",
    "df.reset_index(drop=True, inplace=True)\n",
    "df.head()"
   ]
  },
  {
   "cell_type": "code",
   "execution_count": 42,
   "id": "4db5eb49-415c-4b55-b694-4b62600f848d",
   "metadata": {},
   "outputs": [],
   "source": [
    "from sklearn.feature_extraction.text import TfidfVectorizer\n",
    "from sklearn.metrics.pairwise import cosine_similarity\n",
    "\n",
    "vectorizer = TfidfVectorizer()\n",
    "X = vectorizer.fit_transform(df[\"question\"])"
   ]
  },
  {
   "cell_type": "code",
   "execution_count": null,
   "id": "2d3270cf-e4b9-4b6a-949e-87842161b49a",
   "metadata": {},
   "outputs": [],
   "source": [
    "import joblib\n",
    "import os\n",
    "\n",
    "vectorizer = joblib.load(\"saved_model/vectorizer.pkl\")\n",
    "X = joblib.load(\"saved_model/X.pkl\")"
   ]
  },
  {
   "cell_type": "code",
   "execution_count": null,
   "id": "559c4059-fb14-46b1-a95b-0ee3f5d9cd86",
   "metadata": {},
   "outputs": [],
   "source": [
    "def get_answer(user_question):\n",
    "    user_vec = vectorizer.transform([user_question])\n",
    "    \n",
    "    similarity = cosine_similarity(user_vec, X).flatten()\n",
    "    \n",
    "    best_match_idx = similarity.argmax()\n",
    "    \n",
    "    best_question = df.iloc[best_match_idx][\"question\"]\n",
    "    best_answer = df.iloc[best_match_idx][\"answer\"]\n",
    "    \n",
    "    return best_question, best_answer"
   ]
  },
  {
   "cell_type": "code",
   "execution_count": null,
   "id": "ff4d4e51-ff32-40e1-a093-3ce61532c7ee",
   "metadata": {},
   "outputs": [],
   "source": [
    "while True:\n",
    "    user_q = input(\"You: \")\n",
    "    if user_q.lower() in [\"exit\", \"quit\", \"bye\"]:\n",
    "        print(\"Bot: Thank you! Stay healthy. 👋\")\n",
    "        break\n",
    "    \n",
    "    matched_q, response = get_answer(user_q)\n",
    "    print(f\"\\nBot (Best Match: {matched_q})\\n→ {response}\\n\")\n"
   ]
  },
  {
   "cell_type": "code",
   "execution_count": null,
   "id": "1743cb5d-2774-4122-8d50-58dfe4e93e0a",
   "metadata": {},
   "outputs": [],
   "source": []
  },
  {
   "cell_type": "code",
   "execution_count": null,
   "id": "ee6eea56-0340-4817-91ed-bae567db6774",
   "metadata": {},
   "outputs": [],
   "source": []
  }
 ],
 "metadata": {
  "kernelspec": {
   "display_name": "Python 3 (ipykernel)",
   "language": "python",
   "name": "python3"
  },
  "language_info": {
   "codemirror_mode": {
    "name": "ipython",
    "version": 3
   },
   "file_extension": ".py",
   "mimetype": "text/x-python",
   "name": "python",
   "nbconvert_exporter": "python",
   "pygments_lexer": "ipython3",
   "version": "3.12.4"
  }
 },
 "nbformat": 4,
 "nbformat_minor": 5
}
